{
 "cells": [
  {
   "cell_type": "markdown",
   "metadata": {},
   "source": [
    "# Array and Strings"
   ]
  },
  {
   "cell_type": "markdown",
   "metadata": {},
   "source": [
    "## Spiral Matrix\n",
    "\n",
    "Given a matrix of m x n elements (m rows, n columns), return all elements of the matrix in spiral order.\n",
    "\n",
    "Input:\n",
    "[\n",
    " [ 1, 2, 3 ],\n",
    " [ 4, 5, 6 ],\n",
    " [ 7, 8, 9 ]\n",
    "]\n",
    "Output: [1,2,3,6,9,8,7,4,5]"
   ]
  },
  {
   "cell_type": "code",
   "execution_count": 1,
   "metadata": {},
   "outputs": [],
   "source": [
    "class Solution:\n",
    "    def spiralOrder(self, matrix):\n",
    "        \"\"\"\n",
    "        :type matrix: List[List[int]]\n",
    "        :rtype: List[int]\n",
    "        \"\"\"\n",
    "        ret = []\n",
    "        while matrix:\n",
    "            ret += matrix.pop(0)\n",
    "            if matrix and matrix [0]:\n",
    "                for row in matrix:\n",
    "                    ret.append(row.pop())\n",
    "            if matrix:\n",
    "                ret += matrix.pop()[::-1]\n",
    "            if matrix and matrix[0]:\n",
    "                for row in matrix[::-1]:\n",
    "                    ret.append(row.pop(0))\n",
    "        return ret\n",
    "\n"
   ]
  },
  {
   "cell_type": "markdown",
   "metadata": {},
   "source": [
    "# Plus One\n",
    "Given a non-empty array of digits representing a non-negative integer, plus one to the integer.\n",
    "\n",
    "The digits are stored such that the most significant digit is at the head of the list, and each element in the array contain a single digit.\n",
    "\n",
    "You may assume the integer does not contain any leading zero, except the number 0 itself."
   ]
  },
  {
   "cell_type": "code",
   "execution_count": 2,
   "metadata": {},
   "outputs": [],
   "source": [
    "class Solution:\n",
    "    def plusOne(self, digits):\n",
    "        if digits[-1] != 9:\n",
    "            digits[-1] += 1\n",
    "            return digits\n",
    "        i = -1\n",
    "        while i >= -len(digits) and digits[i] == 9:\n",
    "            digits[i] = 0\n",
    "            i -= 1\n",
    "        if i == -len(digits)-1:\n",
    "             digits.insert(0, 1)\n",
    "        else:\n",
    "            digits[i] +=1\n",
    "        return digits"
   ]
  },
  {
   "cell_type": "markdown",
   "metadata": {},
   "source": [
    "#  Trapping Rain Water\n",
    "Given n non-negative integers representing an elevation map where the width of each bar is 1, compute how much water it is able to trap after raining.\n",
    "\n",
    "\n",
    "Input: [0,1,0,2,1,0,1,3,2,1,2,1]\n",
    "Output: 6"
   ]
  },
  {
   "cell_type": "code",
   "execution_count": 3,
   "metadata": {},
   "outputs": [],
   "source": [
    "class Solution:\n",
    "    def trap(self, height):\n",
    "        left = 0\n",
    "        right = len(height) - 1\n",
    "        left_max = right_max = area = 0\n",
    "        \n",
    "        while left < right:\n",
    "            if height[left] < height[right]:\n",
    "                if height[left] < left_max:\n",
    "                    area += left_max - height[left]\n",
    "                else:\n",
    "                    left_max = height[left]\n",
    "                left += 1\n",
    "            else:\n",
    "                if height[right] < right_max:\n",
    "                    area += right_max - height[right]\n",
    "                else:\n",
    "                    right_max = height[right]\n",
    "                right -= 1\n",
    "                \n",
    "        return area"
   ]
  },
  {
   "cell_type": "markdown",
   "metadata": {},
   "source": [
    "# Longest Substring with At Most K Distinct Characters\n",
    "\n",
    "Given a string, find the length of the longest substring T that contains at most k distinct characters.\n",
    "\n",
    "\n",
    "Input: s = \"eceba\", k = 2\n",
    "Output: 3\n",
    "Explanation: T is \"ece\" which its length is 3.\n",
    "\n",
    "Input: s = \"aa\", k = 1\n",
    "Output: 2\n",
    "Explanation: T is \"aa\" which its length is 2."
   ]
  },
  {
   "cell_type": "code",
   "execution_count": 4,
   "metadata": {},
   "outputs": [],
   "source": [
    "class Solution:\n",
    "    def lengthOfLongestSubstringKDistinct(self, s, k):\n",
    "        \"\"\"\n",
    "        :type s: str\n",
    "        :type k: int\n",
    "        :rtype: int\n",
    "        \"\"\"\n",
    "        ans = 0\n",
    "        counter = [0]*127\n",
    "        start_i = 0\n",
    "        cur_k = 0\n",
    "        for i, c in enumerate(s):\n",
    "            if counter[ord(c)] == 0: cur_k += 1\n",
    "            counter[ord(c)] += 1\n",
    "            if cur_k > k:\n",
    "                # if we can make this while statement O(1), it must be better. May we use heap. I'll just mention it in interview.\n",
    "                while cur_k > k:\n",
    "                    counter[ord(s[start_i])] -= 1\n",
    "                    if counter[ord(s[start_i])] == 0:\n",
    "                        cur_k -= 1\n",
    "                    start_i += 1\n",
    "            ans = max(ans, i-start_i+1)\n",
    "        return ans"
   ]
  },
  {
   "cell_type": "markdown",
   "metadata": {},
   "source": [
    "#   Add Bold Tag in String\n",
    "Given a string s and a list of strings dict, you need to add a closed pair of bold tag <b> and </b> to wrap the substrings in s that exist in dict. If two such substrings overlap, you need to wrap them together by only one pair of closed bold tag. Also, if two substrings wrapped by bold tags are consecutive, you need to combine them.\n",
    "\n",
    "\n",
    "Input: \n",
    "s = \"abcxyz123\"\n",
    "dict = [\"abc\",\"123\"]\n",
    "\n",
    "\n",
    "Output:\n",
    "\"<b>abc</b>xyz<b>123</b>\""
   ]
  },
  {
   "cell_type": "code",
   "execution_count": 5,
   "metadata": {},
   "outputs": [],
   "source": [
    "class Solution(object):\n",
    "    def addBoldTag(self, s, dict):\n",
    "        \"\"\"\n",
    "        :type s: str\n",
    "        :type dict: List[str]\n",
    "        :rtype: str\n",
    "        \"\"\"\n",
    "        res = \"\"\n",
    "        i = 0\n",
    "        r = -1  # bold stop index\n",
    "        while i < len(s):\n",
    "            found = False\n",
    "            for d in dict:\n",
    "                if s[i:].startswith(d):\n",
    "                    if found is False and r < i:\n",
    "                        res += \"<b>\"\n",
    "                    found = True\n",
    "                    r = max(r, i+len(d))\n",
    "            if r == i:\n",
    "                res += \"</b>\"\n",
    "            res += s[i]\n",
    "            i += 1\n",
    "\n",
    "        if r == len(s):\n",
    "            res += \"</b>\"\n",
    "\n",
    "        return res"
   ]
  },
  {
   "cell_type": "markdown",
   "metadata": {},
   "source": [
    "# Game of Life\n",
    "According to the Wikipedia's article: \"The Game of Life, also known simply as Life, is a cellular automaton devised by the British mathematician John Horton Conway in 1970.\"\n",
    "\n",
    "Given a board with m by n cells, each cell has an initial state live (1) or dead (0). Each cell interacts with its eight neighbors (horizontal, vertical, diagonal) using the following four rules (taken from the above Wikipedia article):\n",
    "\n",
    "Any live cell with fewer than two live neighbors dies, as if caused by under-population.\n",
    "Any live cell with two or three live neighbors lives on to the next generation.\n",
    "Any live cell with more than three live neighbors dies, as if by over-population..\n",
    "Any dead cell with exactly three live neighbors becomes a live cell, as if by reproduction.\n",
    "Write a function to compute the next state (after one update) of the board given its current state. The next state is created by applying the above rules simultaneously to every cell in the current state, where births and deaths occur simultaneously.\n",
    "\n",
    "\n",
    "Input: \n",
    "[\n",
    "  [0,1,0],\n",
    "  [0,0,1],\n",
    "  [1,1,1],\n",
    "  [0,0,0]\n",
    "]\n",
    "Output: \n",
    "[\n",
    "  [0,0,0],\n",
    "  [1,0,1],\n",
    "  [0,1,1],\n",
    "  [0,1,0]\n",
    "]"
   ]
  },
  {
   "cell_type": "code",
   "execution_count": 6,
   "metadata": {},
   "outputs": [],
   "source": [
    "class Solution(object):\n",
    "# Returns the number of the 8 neighbors that are live. I am cell [row][col]\n",
    "    def neighboors(self, matrix, row, col):\n",
    "        # All the possible 8 neighboors positions\n",
    "        positions = [(row-1,col), (row,col-1), (row-1,col-1), (row+1,col), (row,col+1), (row+1,col+1), (row+1,col-1), (row-1,col+1)]\n",
    "        res = 0\n",
    "        \n",
    "        for r,c in positions:  \n",
    "            if r>=0 and r<len(matrix) and c>=0 and c<len(matrix[0]):\n",
    "                # Count only live ones. A live one is eithe 1 or 2 \n",
    "                if matrix[r][c] == 1 or matrix[r][c] == 2 :\n",
    "                    res += 1\n",
    "        return res\n",
    "    \n",
    "    \n",
    "    def decipher(self, board, size_rows, size_cols):\n",
    "        for r in range(size_rows):\n",
    "            for c in range(size_cols):\n",
    "                if board[r][c] == -2:\n",
    "                    board[r][c] = 1\n",
    "                if board[r][c] == 2:\n",
    "                    board[r][c] = 0\n",
    "\n",
    "        \n",
    "    def gameOfLife(self, board):\n",
    "        \"\"\"\n",
    "        :type board: List[List[int]]\n",
    "        :rtype: void Do not return anything, modify board in-place instead.\n",
    "        \"\"\"\n",
    "        \n",
    "        size_rows = len(board)\n",
    "        size_cols = len(board[0])\n",
    "            \n",
    "        # THe ones will affect the computation are the 1's -> 0 \n",
    "        # that we will represent as [2] and 0->1's represented with a [-2]\n",
    "        for r in range(size_rows):\n",
    "            for c in range(size_cols):\n",
    "                # Temp holds how many neighboors they have 1s.\n",
    "                # Notice how the function neighboors works, \n",
    "                # It is 1 if the cell value is 1 or 2\n",
    "                temp = self.neighboors(board, r, c)\n",
    "                # Rule 1\n",
    "                if board[r][c] == 1 and temp <2:\n",
    "                    board[r][c] = 2\n",
    "                # Rule 2\n",
    "                elif board[r][c] == 1 and  temp >=2 and temp<4:\n",
    "                    board[r][c] = 1\n",
    "                # Rule 3\n",
    "                elif board[r][c] == 1 and temp>=4:\n",
    "                    board[r][c] = 2\n",
    "                # Rule 4\n",
    "                elif board[r][c] == 0 and temp==3:\n",
    "                    board[r][c] = -2\n",
    "        \n",
    "        # Translate the 2 and -2 back to their actual values\n",
    "        self.decipher(board, size_rows, size_cols)"
   ]
  },
  {
   "cell_type": "markdown",
   "metadata": {},
   "source": [
    "# Read N Characters Given Read4\n",
    "Given a file and assume that you can only read the file using a given method read4, implement a method to read n characters.\n",
    "\n",
    " \n",
    "\n",
    "Method read4:\n",
    "\n",
    "The API read4 reads 4 consecutive characters from the file, then writes those characters into the buffer array buf.\n",
    "\n",
    "The return value is the number of actual characters read.\n",
    "\n",
    "Note that read4() has its own file pointer, much like FILE *fp in C.\n",
    "\n",
    "Definition of read4:\n",
    "\n",
    "    Parameter:  char[] buf\n",
    "    Returns:    int\n",
    "\n",
    "Note: buf[] is destination not source, the results from read4 will be copied to buf[]\n",
    "Below is a high level example of how read4 works:\n",
    "\n",
    "File file(\"abcdefghijk\"); // File is \"abcdefghijk\", initially file pointer (fp) points to 'a'\n",
    "char[] buf = new char[4]; // Create buffer with enough space to store characters\n",
    "read4(buf); // read4 returns 4. Now buf = \"abcd\", fp points to 'e'\n",
    "read4(buf); // read4 returns 4. Now buf = \"efgh\", fp points to 'i'\n",
    "read4(buf); // read4 returns 3. Now buf = \"ijk\", fp points to end of file\n",
    " \n",
    "\n",
    "Method read:\n",
    "\n",
    "By using the read4 method, implement the method read that reads n characters from the file and store it in the buffer array buf. Consider that you cannot manipulate the file directly.\n",
    "\n",
    "The return value is the number of actual characters read.\n",
    "\n",
    "Definition of read:\n",
    "\n",
    "    Parameters:\tchar[] buf, int n\n",
    "    Returns:\tint\n",
    "\n",
    "Note: buf[] is destination not source, you will need to write the results to buf[]\n",
    " \n",
    "\n",
    "Example 1:\n",
    "\n",
    "Input: file = \"abc\", n = 4\n",
    "Output: 3\n",
    "Explanation: After calling your read method, buf should contain \"abc\". We read a total of 3 characters from the file, so return 3. Note that \"abc\" is the file's content, not buf. buf is the destination buffer that you will have to write the results to.\n",
    "Example 2:\n",
    "\n",
    "Input: file = \"abcde\", n = 5\n",
    "Output: 5\n",
    "Explanation: After calling your read method, buf should contain \"abcde\". We read a total of 5 characters from the file, so return 5."
   ]
  },
  {
   "cell_type": "code",
   "execution_count": null,
   "metadata": {},
   "outputs": [],
   "source": []
  },
  {
   "cell_type": "markdown",
   "metadata": {},
   "source": [
    "# Read N Characters Given Read4 II - Call multiple times"
   ]
  },
  {
   "cell_type": "code",
   "execution_count": null,
   "metadata": {},
   "outputs": [],
   "source": []
  },
  {
   "cell_type": "markdown",
   "metadata": {},
   "source": [
    "# One Edit Distance\n"
   ]
  },
  {
   "cell_type": "code",
   "execution_count": null,
   "metadata": {},
   "outputs": [],
   "source": []
  },
  {
   "cell_type": "markdown",
   "metadata": {},
   "source": [
    "# Valid Palindrome\n",
    "\n",
    "Given a string, determine if it is a palindrome, considering only alphanumeric characters and ignoring cases.\n",
    "\n",
    "Note: For the purpose of this problem, we define empty string as valid palindrome.\n",
    "\n",
    "Example 1:\n",
    "\n",
    "Input: \"A man, a plan, a canal: Panama\"\n",
    "\n",
    "Output: true\n",
    "\n",
    "Example 2:\n",
    "\n",
    "\n",
    "Input: \"race a car\"\n",
    "\n",
    "Output: false"
   ]
  },
  {
   "cell_type": "code",
   "execution_count": 12,
   "metadata": {},
   "outputs": [],
   "source": [
    "class Solution:\n",
    "    def isPalindrome(self, s):\n",
    "        charList = []\n",
    "        for ch in s:\n",
    "            if ch.isalnum():\n",
    "                charList.append(ch.lower())\n",
    "        return charList == charList[::-1]"
   ]
  },
  {
   "cell_type": "markdown",
   "metadata": {},
   "source": [
    "# Valid Parentheses"
   ]
  },
  {
   "cell_type": "markdown",
   "metadata": {},
   "source": [
    "Given a string containing just the characters '(', ')', '{', '}', '[' and ']', determine if the input string is valid.\n",
    "\n",
    "An input string is valid if:\n",
    "\n",
    "Open brackets must be closed by the same type of brackets.\n",
    "Open brackets must be closed in the correct order.\n",
    "Note that an empty string is also considered valid.\n",
    "\n",
    "Example 1:\n",
    "\n",
    "Input: \"()\"\n",
    "Output: true"
   ]
  },
  {
   "cell_type": "code",
   "execution_count": 14,
   "metadata": {},
   "outputs": [],
   "source": [
    "class Solution:\n",
    "    def isValid(self, s):\n",
    "        \"\"\"\n",
    "        :type s: str\n",
    "        :rtype: bool\n",
    "        \"\"\"\n",
    "        if not s:\n",
    "            return True\n",
    "        mapping = {']':'[','}':'{',')':'('}\n",
    "        stack = [None]\n",
    "        for i in s:\n",
    "            if i in ['(','{','[']:\n",
    "                stack.append(i)\n",
    "            elif i in mapping:\n",
    "                if mapping[i] == stack[-1]:\n",
    "                    stack.pop()\n",
    "                else:\n",
    "                    stack.append(i)\n",
    "            else:\n",
    "                return False\n",
    "        return len(stack) == 1"
   ]
  },
  {
   "cell_type": "markdown",
   "metadata": {},
   "source": [
    "# Valid number"
   ]
  },
  {
   "cell_type": "code",
   "execution_count": null,
   "metadata": {},
   "outputs": [],
   "source": []
  },
  {
   "cell_type": "markdown",
   "metadata": {},
   "source": [
    "# Image Smoother"
   ]
  },
  {
   "cell_type": "code",
   "execution_count": null,
   "metadata": {},
   "outputs": [],
   "source": []
  },
  {
   "cell_type": "code",
   "execution_count": null,
   "metadata": {},
   "outputs": [],
   "source": []
  },
  {
   "cell_type": "markdown",
   "metadata": {},
   "source": [
    "# Intersection of Two Arrays\n",
    "\n",
    "Given two arrays, write a function to compute their intersection.\n",
    "\n",
    "Example 1:\n",
    "\n",
    "Input: nums1 = [1,2,2,1], nums2 = [2,2]\n",
    "Output: [2]\n",
    "Example 2:\n",
    "\n",
    "Input: nums1 = [4,9,5], nums2 = [9,4,9,8,4]\n",
    "Output: [9,4]\n",
    "Note:\n",
    "\n",
    "Each element in the result must be unique.\n",
    "The result can be in any order.\n",
    " "
   ]
  },
  {
   "cell_type": "code",
   "execution_count": 10,
   "metadata": {},
   "outputs": [],
   "source": [
    "class Solution(object):\n",
    "    def intersection(self, nums1, nums2):\n",
    "        \"\"\"\n",
    "        :type nums1: List[int]\n",
    "        :type nums2: List[int]\n",
    "        :rtype: List[int]\n",
    "        \"\"\"\n",
    "        nums1=set(nums1)\n",
    "        nums2=set(nums2)\n",
    "        return list(nums1&nums2)"
   ]
  },
  {
   "cell_type": "markdown",
   "metadata": {},
   "source": [
    "# Max Consecutive Ones"
   ]
  },
  {
   "cell_type": "code",
   "execution_count": null,
   "metadata": {},
   "outputs": [],
   "source": []
  },
  {
   "cell_type": "code",
   "execution_count": null,
   "metadata": {},
   "outputs": [],
   "source": []
  },
  {
   "cell_type": "markdown",
   "metadata": {},
   "source": [
    "# Max Consecutive Ones II"
   ]
  },
  {
   "cell_type": "code",
   "execution_count": null,
   "metadata": {},
   "outputs": [],
   "source": []
  },
  {
   "cell_type": "code",
   "execution_count": null,
   "metadata": {},
   "outputs": [],
   "source": []
  },
  {
   "cell_type": "markdown",
   "metadata": {},
   "source": [
    "# Shortest Palindrome"
   ]
  },
  {
   "cell_type": "code",
   "execution_count": null,
   "metadata": {},
   "outputs": [],
   "source": []
  },
  {
   "cell_type": "code",
   "execution_count": null,
   "metadata": {},
   "outputs": [],
   "source": []
  },
  {
   "cell_type": "markdown",
   "metadata": {},
   "source": [
    "# First Missing Positive\n",
    "\n",
    "Given an unsorted integer array, find the smallest missing positive integer.\n",
    "\n",
    "Example 1:\n",
    "\n",
    "Input: [1,2,0]\n",
    "Output: 3\n",
    "Example 2:\n",
    "\n",
    "Input: [3,4,-1,1]\n",
    "Output: 2\n",
    "Example 3:\n",
    "\n",
    "Input: [7,8,9,11,12]\n",
    "Output: 1\n",
    "Note:\n",
    "\n",
    "Your algorithm should run in O(n) time and uses constant extra space."
   ]
  },
  {
   "cell_type": "code",
   "execution_count": null,
   "metadata": {},
   "outputs": [],
   "source": [
    "class Solution(object):\n",
    "    def firstMissingPositive(self, nums):\n",
    "        nums.sort()\n",
    "        count, ans = 0, 1\n",
    "        while count < len(nums):        \n",
    "            if ans == nums[count]: ans += 1\n",
    "            count += 1\n",
    "        return ans"
   ]
  },
  {
   "cell_type": "markdown",
   "metadata": {},
   "source": [
    "#  First Unique Character in a String\n",
    "Given a string, find the first non-repeating character in it and return it's index. If it doesn't exist, return -1.\n",
    "\n",
    "Examples:\n",
    "\n",
    "s = \"leetcode\"\n",
    "return 0.\n",
    "\n",
    "s = \"loveleetcode\",\n",
    "return 2."
   ]
  },
  {
   "cell_type": "code",
   "execution_count": 9,
   "metadata": {},
   "outputs": [],
   "source": [
    "class Solution(object):\n",
    "    def firstUniqChar(self, s):\n",
    "        \"\"\"\n",
    "        :type s: str\n",
    "        :rtype: int\n",
    "        \"\"\"\n",
    "        \n",
    "        letters='abcdefghijklmnopqrstuvwxyz'\n",
    "        index=[s.index(l) for l in letters if s.count(l) == 1]\n",
    "        return min(index) if len(index) > 0 else -1"
   ]
  },
  {
   "cell_type": "markdown",
   "metadata": {},
   "source": [
    "#  Move Zeroes"
   ]
  },
  {
   "cell_type": "markdown",
   "metadata": {},
   "source": [
    "Given an array nums, write a function to move all 0's to the end of it while maintaining the relative order of the non-zero elements.\n",
    "\n",
    "Example:\n",
    "\n",
    "Input: [0,1,0,3,12]\n",
    "Output: [1,3,12,0,0]"
   ]
  },
  {
   "cell_type": "code",
   "execution_count": 7,
   "metadata": {},
   "outputs": [],
   "source": [
    "class Solution:\n",
    "    def moveZeroes(self, nums):\n",
    "        \"\"\"\n",
    "        :type nums: List[int]\n",
    "        :rtype: void Do not return anything, modify nums in-place instead.\n",
    "        \"\"\"\n",
    "        counter = 0\n",
    "        while(0 in nums):\n",
    "            nums.remove(0)\n",
    "            counter+=1\n",
    "        while(counter!=0):\n",
    "            nums.append(0)\n",
    "            counter-=1"
   ]
  },
  {
   "cell_type": "markdown",
   "metadata": {},
   "source": [
    "# Remove Duplicates from Sorted Array\n",
    "\n",
    "Given a sorted array nums, remove the duplicates in-place such that each element appear only once and return the new length.\n",
    "\n",
    "Do not allocate extra space for another array, you must do this by modifying the input array in-place with O(1) extra memory.\n",
    "\n",
    "Example 1:\n",
    "\n",
    "Given nums = [1,1,2],\n",
    "\n",
    "Your function should return length = 2, with the first two elements of nums being 1 and 2 respectively.\n",
    "\n",
    "It doesn't matter what you leave beyond the returned length.\n",
    "Example 2:\n",
    "\n",
    "Given nums = [0,0,1,1,1,2,2,3,3,4],\n",
    "\n",
    "Your function should return length = 5, with the first five elements of nums being modified to 0, 1, 2, 3, and 4 respectively.\n",
    "\n",
    "It doesn't matter what values are set beyond the returned length."
   ]
  },
  {
   "cell_type": "code",
   "execution_count": 8,
   "metadata": {},
   "outputs": [],
   "source": [
    "class Solution:\n",
    "    # @param a list of integers\n",
    "    # @return an integer\n",
    "    def removeDuplicates(self, A):\n",
    "        if not A:\n",
    "            return 0\n",
    "\n",
    "        newTail = 0\n",
    "\n",
    "        for i in range(1, len(A)):\n",
    "            if A[i] != A[newTail]:\n",
    "                newTail += 1\n",
    "                A[newTail] = A[i]\n",
    "\n",
    "        return newTail + 1"
   ]
  }
 ],
 "metadata": {
  "kernelspec": {
   "display_name": "Python 3",
   "language": "python",
   "name": "python3"
  },
  "language_info": {
   "codemirror_mode": {
    "name": "ipython",
    "version": 3
   },
   "file_extension": ".py",
   "mimetype": "text/x-python",
   "name": "python",
   "nbconvert_exporter": "python",
   "pygments_lexer": "ipython3",
   "version": "3.7.1"
  }
 },
 "nbformat": 4,
 "nbformat_minor": 2
}
