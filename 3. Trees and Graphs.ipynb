{
 "cells": [
  {
   "cell_type": "markdown",
   "metadata": {},
   "source": [
    "# Evaluate Division"
   ]
  },
  {
   "cell_type": "markdown",
   "metadata": {},
   "source": [
    "Equations are given in the format A / B = k, where A and B are variables represented as strings, and k is a real number (floating point number). Given some queries, return the answers. If the answer does not exist, return -1.0.\n",
    "\n",
    "Example:\n",
    "\n",
    "Given a / b = 2.0, b / c = 3.0. \n",
    "\n",
    "queries are: a / c = ?, b / a = ?, a / e = ?, a / a = ?, x / x = ? . \n",
    "\n",
    "return [6.0, 0.5, -1.0, 1.0, -1.0 ].\n",
    "\n",
    "The input is: vector<pair<string, string>> equations, vector<double>& values, vector<pair<string, string>> queries , where equations.size() == values.size(), and the values are positive. This represents the equations. Return vector<double>.\n",
    "\n"
   ]
  },
  {
   "cell_type": "code",
   "execution_count": 1,
   "metadata": {},
   "outputs": [],
   "source": [
    "class Solution:\n",
    "    def calcEquation(self, equations, values, queries):\n",
    "        G, W = collections.defaultdict(set), collections.defaultdict(float)\n",
    "        for (A, B), V in zip(equations, values):\n",
    "            G[A], G[B] = G[A] | {B}, G[B] | {A}\n",
    "            W[A, B], W[B, A] = V, 1.0 / V\n",
    "            \n",
    "        res = []\n",
    "        for X, Y in queries:\n",
    "            paths, vis = [-1.0], set()\n",
    "            r = self.dfs(G, W, X, Y, 1.0, vis)\n",
    "            res.append(r)\n",
    "        return res\n",
    "        \n",
    "    def dfs(self, G, W, start, end, path, vis):\n",
    "            if start == end and start in G:\n",
    "                return path\n",
    "            if start in vis: \n",
    "                return -1.0\n",
    "            \n",
    "            vis.add(start)\n",
    "            for node in G[start]:\n",
    "                r = self.dfs(G, W, node, end, path * W[start, node], vis)\n",
    "                if r != -1:  \n",
    "                    return r\n",
    "            return -1.0"
   ]
  },
  {
   "cell_type": "markdown",
   "metadata": {},
   "source": [
    "# Inorder Successor in BST\n",
    "Given a binary search tree and a node in it, find the in-order successor of that node in the BST.\n",
    "\n",
    "The successor of a node p is the node with the smallest key greater than p.val.\n",
    "\n",
    "\n",
    "Input: root = [2,1,3], p = 1\n",
    "\n",
    "Output: 2\n",
    "\n",
    "Explanation: 1's in-order successor node is 2. Note that both p and the return value is of TreeNode type.\n",
    "\n",
    "\n",
    "Input: root = [5,3,6,2,4,null,null,1], p = 6\n",
    "\n",
    "Output: null\n",
    "\n",
    "explanation: There is no in-order successor of the current node, so the answer is null.\n"
   ]
  },
  {
   "cell_type": "code",
   "execution_count": 2,
   "metadata": {},
   "outputs": [],
   "source": [
    "# Definition for a binary tree node.\n",
    "# class TreeNode(object):\n",
    "#     def __init__(self, x):\n",
    "#         self.val = x\n",
    "#         self.left = None\n",
    "#         self.right = None\n",
    "\n",
    "class Solution(object):\n",
    "    def inorderSuccessor(self, root, p):\n",
    "        if not root: return None\n",
    "        if root.val>p.val: return self.inorderSuccessor(root.left,p) or root \n",
    "        return self.inorderSuccessor(root.right,p)"
   ]
  },
  {
   "cell_type": "code",
   "execution_count": 3,
   "metadata": {},
   "outputs": [],
   "source": [
    "# Definition for a binary tree node.\n",
    "# class TreeNode(object):\n",
    "#     def __init__(self, x):\n",
    "#         self.val = x\n",
    "#         self.left = None\n",
    "#         self.right = None\n",
    "\n",
    "class Solution(object):\n",
    "    def inorderSuccessor(self, root, p):\n",
    "        \"\"\"\n",
    "        :type root: TreeNode\n",
    "        :type p: TreeNode\n",
    "        :rtype: TreeNode\n",
    "        \"\"\"\n",
    "        \n",
    "        if not root:\n",
    "            return None\n",
    "        else:\n",
    "            if root.val <= p.val:\n",
    "                return self.inorderSuccessor(root.right, p)\n",
    "            else:\n",
    "                left = self.inorderSuccessor(root.left, p)\n",
    "                if not left:\n",
    "                    return root\n",
    "                else:\n",
    "                    return left"
   ]
  },
  {
   "cell_type": "markdown",
   "metadata": {},
   "source": [
    "# Robot Room Cleaner"
   ]
  },
  {
   "cell_type": "code",
   "execution_count": null,
   "metadata": {},
   "outputs": [],
   "source": [
    "class Solution(object):\n",
    "    def cleanRoom(self, robot):\n",
    "        \"\"\"\n",
    "        :type robot: Robot\n",
    "        :rtype: None\n",
    "        \"\"\"\n",
    "        self.dfs(robot, 0, 0, 0, 1, set())\n",
    "    \n",
    "    def dfs(self, robot, x, y, direction_x, direction_y, visited):\n",
    "        robot.clean()\n",
    "        visited.add((x, y))\n",
    "        \n",
    "        for k in range(4):\n",
    "            neighbor_x = x + direction_x\n",
    "            neighbor_y = y + direction_y\n",
    "            if (neighbor_x, neighbor_y) not in visited and robot.move():\n",
    "                self.dfs(robot, neighbor_x, neighbor_y, direction_x, direction_y, visited)\n",
    "                robot.turnLeft()\n",
    "                robot.turnLeft()\n",
    "                robot.move()\n",
    "                robot.turnLeft()\n",
    "                robot.turnLeft()\n",
    "            robot.turnLeft()\n",
    "            direction_x, direction_y = -direction_y, direction_x   "
   ]
  },
  {
   "cell_type": "markdown",
   "metadata": {},
   "source": [
    "# Redundant Connection II"
   ]
  },
  {
   "cell_type": "markdown",
   "metadata": {},
   "source": [
    "Input: [[1,2], [1,3], [2,3]]\n",
    "\n",
    "Output: [2,3]\n",
    "\n",
    "Explanation: The given directed graph will be like this:\n",
    "  1\n",
    "\n",
    "/ \\\n",
    "\n",
    "v   v\n",
    "\n",
    "2-->3\n",
    "\n",
    "Input: [[1,2], [2,3], [3,4], [4,1], [1,5]]\n",
    "\n",
    "Output: [4,1]\n",
    "\n",
    "Explanation: The given directed graph will be like this:\n",
    "\n",
    "5 <- 1 -> 2\n",
    "    \n",
    "     ^    |\n",
    "     \n",
    "     |    v\n",
    "     \n",
    "     4 <- 3"
   ]
  },
  {
   "cell_type": "code",
   "execution_count": 4,
   "metadata": {},
   "outputs": [],
   "source": [
    "class Solution(object):\n",
    "    def findRedundantDirectedConnection(self, edges):\n",
    "        \"\"\"\n",
    "        :type edges: List[List[int]]\n",
    "        :rtype: List[int]\n",
    "        \"\"\"\n",
    "        candidate=[]\n",
    "        self.par=[0]*(len(edges)+1)\n",
    "        for u,v in edges:\n",
    "            if self.par[v]!=0:\n",
    "                candidate.append([self.par[v],v])\n",
    "                candidate.append([u,v])\n",
    "                break\n",
    "            else:\n",
    "                self.par[v]=u\n",
    "        self.par=range(len(edges)+1)\n",
    "        for u,v in edges:\n",
    "            if candidate and [u,v]==candidate[1]:\n",
    "                continue\n",
    "            if self.unionFind(u)==v:\n",
    "                if candidate:\n",
    "                    return candidate[0]\n",
    "                return [u,v]\n",
    "            self.par[v]=u\n",
    "        return candidate[1]\n",
    "            \n",
    "    \n",
    "    \n",
    "    def unionFind(self,u):\n",
    "        if self.par[u]!=u:\n",
    "            self.par[u]=self.unionFind(self.par[u])\n",
    "        return self.par[u]"
   ]
  },
  {
   "cell_type": "markdown",
   "metadata": {},
   "source": [
    "#  Course Schedule"
   ]
  },
  {
   "cell_type": "markdown",
   "metadata": {},
   "source": [
    "There are a total of n courses you have to take, labeled from 0 to n-1.\n",
    "\n",
    "Some courses may have prerequisites, for example to take course 0 you have to first take course 1, which is expressed as a pair: [0,1]\n",
    "\n",
    "Given the total number of courses and a list of prerequisite pairs, is it possible for you to finish all courses?\n",
    "\n",
    "Example 1:\n",
    "\n",
    "Input: 2, [[1,0]] \n",
    "\n",
    "Output: true\n",
    "\n",
    "Explanation: There are a total of 2 courses to take. \n",
    "\n",
    "To take course 1 you should have finished course 0. So it is possible.\n",
    "\n",
    "Example 1:\n",
    "\n",
    "Input: 2, [[1,0],[0,1]]\n",
    "\n",
    "Output: false\n",
    "\n",
    "Explanation: There are a total of 2 courses to take. \n",
    "             To take course 1 you should have finished course 0, and to take course 0 you should\n",
    "             also have finished course 1. So it is impossible."
   ]
  },
  {
   "cell_type": "markdown",
   "metadata": {},
   "source": [
    "if node v has not been visited, then mark it as 0.\n",
    "\n",
    "if node v is being visited, then mark it as -1. If we find a vertex marked as -1 in DFS, then their is a ring.\n",
    "\n",
    "if node v has been visited, then mark it as 1. If a vertex was marked as 1, then no ring contains v or its successors."
   ]
  },
  {
   "cell_type": "code",
   "execution_count": 5,
   "metadata": {},
   "outputs": [],
   "source": [
    "class Solution(object):\n",
    "    def canFinish(self, numCourses, prerequisites):\n",
    "        graph = [[] for _ in xrange(numCourses)]\n",
    "        visit = [0 for _ in xrange(numCourses)]\n",
    "        for x, y in prerequisites:\n",
    "            graph[x].append(y)\n",
    "        def dfs(i):\n",
    "            if visit[i] == -1:\n",
    "                return False\n",
    "            if visit[i] == 1:\n",
    "                return True\n",
    "            visit[i] = -1\n",
    "            for j in graph[i]:\n",
    "                if not dfs(j):\n",
    "                    return False\n",
    "            visit[i] = 1\n",
    "            return True\n",
    "        for i in xrange(numCourses):\n",
    "            if not dfs(i):\n",
    "                return False\n",
    "        return True"
   ]
  },
  {
   "cell_type": "markdown",
   "metadata": {},
   "source": [
    "# Validate Binary Search Tree"
   ]
  },
  {
   "cell_type": "markdown",
   "metadata": {},
   "source": [
    "Given a binary tree, determine if it is a valid binary search tree (BST).\n",
    "\n",
    "Assume a BST is defined as follows:\n",
    "\n",
    "The left subtree of a node contains only nodes with keys less than the node's key.\n",
    "\n",
    "The right subtree of a node contains only nodes with keys greater than the node's key.\n",
    "\n",
    "Both the left and right subtrees must also be binary search trees."
   ]
  },
  {
   "cell_type": "code",
   "execution_count": 7,
   "metadata": {},
   "outputs": [],
   "source": [
    "# class TreeNode(object):\n",
    "#     def __init__(self, x):\n",
    "#         self.val = x\n",
    "#         self.left = None\n",
    "#         self.right = None\n",
    "\n",
    "\n",
    "class Solution(object):\n",
    "    def isValidBST(self, root):\n",
    "\n",
    "        def helper(node, lower, upper):  # set boundaries for node.val.\n",
    "        \n",
    "            if (not node):\n",
    "                return True\n",
    "            if lower < node.val < upper:\n",
    "                return helper(node.left, lower, node.val) and helper(node.right, node.val, upper)\n",
    "            else:\n",
    "                return False\n",
    "\n",
    "        return helper(root, -2147483649, 2147483648)  # min int and max int will be the bound for root.val"
   ]
  },
  {
   "cell_type": "markdown",
   "metadata": {},
   "source": [
    "# Closest Binary Search Tree Value"
   ]
  },
  {
   "cell_type": "markdown",
   "metadata": {},
   "source": [
    "Given a non-empty binary search tree and a target value, find the value in the BST that is closest to the target.\n",
    "\n",
    "Note:\n",
    "\n",
    "Given target value is a floating point.\n",
    "You are guaranteed to have only one unique value in the BST that is closest to the target."
   ]
  },
  {
   "cell_type": "markdown",
   "metadata": {},
   "source": [
    "Input: root = [4,2,5,1,3], target = 3.714286\n",
    "\n",
    "    4\n",
    "\n",
    "    / \\\n",
    "   \n",
    "   2   5\n",
    "   \n",
    "   /    \\\n",
    "   \n",
    "  1      3\n",
    "\n",
    "Output: 4"
   ]
  },
  {
   "cell_type": "code",
   "execution_count": 11,
   "metadata": {},
   "outputs": [],
   "source": [
    "# Definition for a binary tree node.\n",
    "# class TreeNode(object):\n",
    "#     def __init__(self, x):\n",
    "#         self.val = x\n",
    "#         self.left = None\n",
    "#         self.right = None\n",
    "\n",
    "class Solution(object):\n",
    "    def closestValue(self, root, target):\n",
    "        r = root.val\n",
    "        while root:\n",
    "            if abs(root.val - target) < abs(r - target):\n",
    "                r = root.val\n",
    "            root = root.left if target < root.val else root.right\n",
    "        return r"
   ]
  }
 ],
 "metadata": {
  "kernelspec": {
   "display_name": "Python 3",
   "language": "python",
   "name": "python3"
  },
  "language_info": {
   "codemirror_mode": {
    "name": "ipython",
    "version": 3
   },
   "file_extension": ".py",
   "mimetype": "text/x-python",
   "name": "python",
   "nbconvert_exporter": "python",
   "pygments_lexer": "ipython3",
   "version": "3.7.1"
  }
 },
 "nbformat": 4,
 "nbformat_minor": 2
}
