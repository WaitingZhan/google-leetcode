{
 "cells": [
  {
   "cell_type": "markdown",
   "metadata": {},
   "source": [
    "# Merge k Sorted Lists\n",
    "\n",
    "Merge k sorted linked lists and return it as one sorted list. Analyze and describe its complexity.\n",
    "\n",
    "Input:\n",
    "[\n",
    "  1->4->5,\n",
    "  1->3->4,\n",
    "  2->6\n",
    "]\n",
    "\n",
    "Output: 1->1->2->3->4->4->5->6"
   ]
  },
  {
   "cell_type": "code",
   "execution_count": 3,
   "metadata": {},
   "outputs": [],
   "source": [
    "class Solution(object):\n",
    "    def mergeKLists(self, lists):\n",
    "        res = []\n",
    "        for l in lists:\n",
    "            while l:\n",
    "                res.append((l.val, l))\n",
    "                l = l.next\n",
    "        \n",
    "        res.sort(key=lambda tup: tup[0])\n",
    "        \n",
    "        dummy = ListNode(None)\n",
    "        cur = dummy\n",
    "        \n",
    "        for l in res:\n",
    "            cur.next = l[1]\n",
    "            cur = cur.next\n",
    "        \n",
    "        return dummy.next"
   ]
  },
  {
   "cell_type": "code",
   "execution_count": null,
   "metadata": {},
   "outputs": [],
   "source": []
  },
  {
   "cell_type": "markdown",
   "metadata": {},
   "source": [
    "# Insert into a Cyclic Sorted List\n",
    "iven a node from a cyclic linked list which is sorted in ascending order, write a function to insert a value into the list such that it remains a cyclic sorted list. The given node can be a reference to any single node in the list, and may not be necessarily the smallest value in the cyclic list.\n",
    "\n",
    "If there are multiple suitable places for insertion, you may choose any place to insert the new value. After the insertion, the cyclic list should remain sorted.\n",
    "\n",
    "If the list is empty (i.e., given node is null), you should create a new single cyclic list and return the reference to that single node. Otherwise, you should return the original given node.\n",
    "\n",
    "The following example may help you understand the problem better:\n",
    "\n",
    " \n",
    "\n",
    "\n",
    "\n",
    "In the figure above, there is a cyclic sorted list of three elements. You are given a reference to the node with value 3, and we need to insert 2 into the list.\n",
    "\n",
    " \n",
    "\n",
    "\n",
    "\n",
    "The new node should insert between node 1 and node 3. After the insertion, the list should look like this, and we should still return node 3."
   ]
  },
  {
   "cell_type": "code",
   "execution_count": null,
   "metadata": {},
   "outputs": [],
   "source": [
    "class Solution:\n",
    "    def insert(self, head, val):\n",
    "        \"\"\"\n",
    "        :type head: Node\n",
    "        :type insertVal: int\n",
    "        :rtype: Node\n",
    "        \"\"\"\n",
    "        node = Node(val, head)\n",
    "        if not head:\n",
    "            return node \n",
    "        prev, cur = head, head.next\n",
    "        while 1:\n",
    "            if prev.val <= val <= cur.val:\n",
    "                break\n",
    "            elif prev.val > cur.val and (val<cur.val or val>prev.val):\n",
    "                break\n",
    "            prev, cur = prev.next, cur.next\n",
    "            if prev == head:\n",
    "                break \n",
    "        prev.next = node\n",
    "        node.next = cur \n",
    "        return head"
   ]
  },
  {
   "cell_type": "code",
   "execution_count": null,
   "metadata": {},
   "outputs": [],
   "source": []
  },
  {
   "cell_type": "code",
   "execution_count": null,
   "metadata": {},
   "outputs": [],
   "source": []
  }
 ],
 "metadata": {
  "kernelspec": {
   "display_name": "Python 3",
   "language": "python",
   "name": "python3"
  },
  "language_info": {
   "codemirror_mode": {
    "name": "ipython",
    "version": 3
   },
   "file_extension": ".py",
   "mimetype": "text/x-python",
   "name": "python",
   "nbconvert_exporter": "python",
   "pygments_lexer": "ipython3",
   "version": "3.7.1"
  }
 },
 "nbformat": 4,
 "nbformat_minor": 2
}
