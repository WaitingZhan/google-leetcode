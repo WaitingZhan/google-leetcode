{
 "cells": [
  {
   "cell_type": "markdown",
   "metadata": {},
   "source": [
    "# Minimum Window Substring\n",
    "Given a string S and a string T, find the minimum window in S which will contain all the characters in T in complexity O(n).\n",
    "\n",
    "Example:\n",
    "\n",
    "Input: S = \"ADOBECODEBANC\", T = \"ABC\"\n",
    "\n",
    "Output: \"BANC\"\n",
    "\n",
    "\n",
    "Note:\n",
    "\n",
    "If there is no such window in S that covers all characters in T, return the empty string \"\".\n",
    "If there is such window, you are guaranteed that there will always be only one unique minimum window in S."
   ]
  },
  {
   "cell_type": "code",
   "execution_count": null,
   "metadata": {},
   "outputs": [],
   "source": [
    "class Solution(object):\n",
    "    def minWindow(self, s, t):\n",
    "        need, missing = collections.Counter(t), len(t)\n",
    "        i = I = J = 0\n",
    "        for j, c in enumerate(s, 1):\n",
    "            missing -= need[c] > 0\n",
    "            need[c] -= 1\n",
    "            if not missing:\n",
    "                while i < j and need[s[i]] < 0:\n",
    "                    need[s[i]] += 1\n",
    "                    i += 1\n",
    "                if not J or j - i <= J - I:\n",
    "                    I, J = i, j\n",
    "        return s[I:J]"
   ]
  },
  {
   "cell_type": "markdown",
   "metadata": {},
   "source": [
    "#  Kth Largest Element in an Array"
   ]
  },
  {
   "cell_type": "markdown",
   "metadata": {},
   "source": [
    "Find the kth largest element in an unsorted array. Note that it is the kth largest element in the sorted order, not the kth distinct element.\n",
    "\n",
    "Example 1:\n",
    "\n",
    "Input: [3,2,1,5,6,4] and k = 2\n",
    "\n",
    "Output: 5\n",
    "\n",
    "Example 2:\n",
    "\n",
    "\n",
    "Input: [3,2,3,1,2,4,5,5,6] and k = 4\n",
    "\n",
    "Output: 4"
   ]
  },
  {
   "cell_type": "code",
   "execution_count": 1,
   "metadata": {},
   "outputs": [],
   "source": [
    "#Brute Froce\n",
    "\n",
    "#Time: O(nlogn) | Space: O(1)\n",
    "\n",
    "class Solution(object):\n",
    "    def findKthLargest(self, nums, k):\n",
    "        nums.sort()\n",
    "        return nums[-k]"
   ]
  },
  {
   "cell_type": "code",
   "execution_count": 2,
   "metadata": {},
   "outputs": [],
   "source": [
    "# Min Heap\n",
    "# Time: O(k) + O(n * logk) | Space: O(K)\n",
    "\n",
    "import heapq\n",
    "class Solution(object):\n",
    "    def findKthLargest(self, nums, k):\n",
    "        min_heap = [-float('inf')] * k\n",
    "        heapq.heapify(min_heap)\n",
    "        for num in nums:\n",
    "            if num > min_heap[0]:\n",
    "                heapq.heappop(min_heap)\n",
    "                heapq.heappush(min_heap, num)\n",
    "        return min_heap[0]"
   ]
  },
  {
   "cell_type": "markdown",
   "metadata": {},
   "source": [
    "# Shortest Distance from All Buildings"
   ]
  },
  {
   "cell_type": "markdown",
   "metadata": {},
   "source": [
    "You want to build a house on an empty land which reaches all buildings in the shortest amount of distance. You can only move up, down, left and right. You are given a 2D grid of values 0, 1 or 2, where:\n",
    "\n",
    "Each 0 marks an empty land which you can pass by freely.\n",
    "\n",
    "Each 1 marks a building which you cannot pass through.\n",
    "\n",
    "Each 2 marks an obstacle which you cannot pass through."
   ]
  },
  {
   "cell_type": "code",
   "execution_count": 3,
   "metadata": {},
   "outputs": [],
   "source": [
    "class Solution(object):\n",
    "    def shortestDistance(self, grid):\n",
    "        if not grid or not grid[0]:\n",
    "            return -1\n",
    "\n",
    "        matrix = [[[0,0] for i in range(len(grid[0]))] for j in range(len(grid))]\n",
    "\n",
    "        cnt = 0    # count how many building we have visited\n",
    "        for i in range(len(grid)):\n",
    "            for j in range(len(grid[0])):\n",
    "                if grid[i][j] == 1:\n",
    "                    self.bfs([i,j], grid, matrix, cnt)\n",
    "                    cnt += 1\n",
    "\n",
    "        res = float('inf')\n",
    "        for i in range(len(matrix)):\n",
    "            for j in range(len(matrix[0])):\n",
    "                if matrix[i][j][1]==cnt:\n",
    "                    res = min(res, matrix[i][j][0])\n",
    "\n",
    "        return res if res!=float('inf') else -1\n",
    "\n",
    "    def bfs(self, start, grid, matrix, cnt):\n",
    "        q = [(start, 0)]\n",
    "        while q:\n",
    "            tmp = q.pop(0)\n",
    "            po, step = tmp[0], tmp[1]\n",
    "            for dp in [(-1,0), (1,0), (0,1), (0,-1)]:\n",
    "                i, j = po[0]+dp[0], po[1]+dp[1]\n",
    "                # only the position be visited by cnt times will append to queue\n",
    "                if 0<=i<len(grid) and 0<=j<len(grid[0]) and matrix[i][j][1]==cnt and grid[i][j]==0:\n",
    "                    matrix[i][j][0] += step+1\n",
    "                    matrix[i][j][1] = cnt+1\n",
    "                    q.append(([i,j], step+1))"
   ]
  },
  {
   "cell_type": "code",
   "execution_count": null,
   "metadata": {},
   "outputs": [],
   "source": []
  },
  {
   "cell_type": "markdown",
   "metadata": {},
   "source": [
    "# Find K-th Smallest Pair Distance\n"
   ]
  },
  {
   "cell_type": "markdown",
   "metadata": {},
   "source": [
    "Given an integer array, return the k-th smallest distance among all the pairs. The distance of a pair (A, B) is defined as the absolute difference between A and B.\n",
    "\n",
    "Input:\n",
    "\n",
    "nums = [1,3,1]\n",
    "\n",
    "k = 1\n",
    "\n",
    "Output: 0 \n",
    "\n",
    "Explanation:\n",
    "\n",
    "Here are all the pairs:\n",
    "\n",
    "(1,3) -> 2\n",
    "\n",
    "(1,1) -> 0\n",
    "\n",
    "(3,1) -> 2\n",
    "\n",
    "Then the 1st smallest distance pair is (1,1), and its distance is 0."
   ]
  },
  {
   "cell_type": "code",
   "execution_count": 4,
   "metadata": {},
   "outputs": [],
   "source": [
    "class Solution(object):\n",
    "    def smallestDistancePair(self, nums, k):\n",
    "        def possible(guess):\n",
    "            #Is there k or more pairs with distance <= guess?\n",
    "            count = left = 0\n",
    "            for right, x in enumerate(nums):\n",
    "                while x - nums[left] > guess:\n",
    "                    left += 1\n",
    "                count += right - left\n",
    "            return count >= k\n",
    "\n",
    "        nums.sort()\n",
    "        lo = 0\n",
    "        hi = nums[-1] - nums[0]\n",
    "        while lo < hi:\n",
    "            mi = (lo + hi) / 2\n",
    "            if possible(mi):\n",
    "                hi = mi\n",
    "            else:\n",
    "                lo = mi + 1\n",
    "\n",
    "        return lo"
   ]
  },
  {
   "cell_type": "markdown",
   "metadata": {},
   "source": [
    "# Find K Pairs with Smallest Sums\n"
   ]
  },
  {
   "cell_type": "markdown",
   "metadata": {},
   "source": [
    "You are given two integer arrays nums1 and nums2 sorted in ascending order and an integer k.\n",
    "\n",
    "Define a pair (u,v) which consists of one element from the first array and one element from the second array.\n",
    "\n",
    "Find the k pairs (u1,v1),(u2,v2) ...(uk,vk) with the smallest sums.\n",
    "\n",
    "Input: nums1 = [1,7,11], nums2 = [2,4,6], k = 3\n",
    "\n",
    "Output: [[1,2],[1,4],[1,6]] \n",
    "\n",
    "Explanation: The first 3 pairs are returned from the sequence: \n",
    "             [1,2],[1,4],[1,6],[7,2],[7,4],[11,2],[7,6],[11,4],[11,6]"
   ]
  },
  {
   "cell_type": "code",
   "execution_count": 8,
   "metadata": {},
   "outputs": [],
   "source": [
    "class Solution(object):\n",
    "    def kSmallestPairs(self, nums1, nums2, k):\n",
    "        \"\"\"\n",
    "        :type nums1: List[int]\n",
    "        :type nums2: List[int]\n",
    "        :type k: int\n",
    "        :rtype: List[List[int]]\n",
    "        \"\"\"\n",
    "        import heapq\n",
    "        size1 = len(nums1)\n",
    "        size2 = len(nums2)\n",
    "        q = []\n",
    "        if size1 > 0:\n",
    "            for i, n in enumerate(nums2):\n",
    "                heapq.heappush(q, (nums1[0] + n, 0, i))\n",
    "\n",
    "        result = []\n",
    "        mx = min(k, size1 * size2)\n",
    "        while len(result) < mx:\n",
    "            n, i, j = heapq.heappop(q)\n",
    "            result.append((nums1[i], nums2[j]))\n",
    "            if i + 1 < size1:\n",
    "                heapq.heappush(q, (nums1[i+1] + nums2[j], i+1, j))\n",
    "        return result"
   ]
  },
  {
   "cell_type": "markdown",
   "metadata": {},
   "source": [
    "# Range Module\n"
   ]
  },
  {
   "cell_type": "code",
   "execution_count": null,
   "metadata": {},
   "outputs": [],
   "source": []
  },
  {
   "cell_type": "code",
   "execution_count": null,
   "metadata": {},
   "outputs": [],
   "source": []
  },
  {
   "cell_type": "markdown",
   "metadata": {},
   "source": [
    "# Sqrt(x)\n"
   ]
  },
  {
   "cell_type": "markdown",
   "metadata": {},
   "source": [
    "Implement int sqrt(int x).\n",
    "\n",
    "Compute and return the square root of x, where x is guaranteed to be a non-negative integer.\n",
    "\n",
    "Since the return type is an integer, the decimal digits are truncated and only the integer part of the result is returned.\n",
    "\n",
    "Input: 8\n",
    "\n",
    "Output: 2\n",
    "\n",
    "Explanation: The square root of 8 is 2.82842..., and since \n",
    "             the decimal part is truncated, 2 is returned."
   ]
  },
  {
   "cell_type": "code",
   "execution_count": 9,
   "metadata": {},
   "outputs": [],
   "source": [
    "class Solution:\n",
    "    def mySqrt(self, x):\n",
    "        \"\"\"\n",
    "        :type x: int\n",
    "        :rtype: int\n",
    "        \"\"\"\n",
    "        if x==1: return 1 #deal with exception\n",
    "        l, r = 0, x\n",
    "        while l <= r:\n",
    "            mid = (r+l)//2\n",
    "            if mid * mid <= x < (mid+1)*(mid+1):\n",
    "                return mid\n",
    "            elif x < mid * mid:\n",
    "                r = mid\n",
    "            else:\n",
    "                l = mid"
   ]
  },
  {
   "cell_type": "markdown",
   "metadata": {},
   "source": [
    "#  Insert Interval\n"
   ]
  },
  {
   "cell_type": "markdown",
   "metadata": {},
   "source": [
    "Given a set of non-overlapping intervals, insert a new interval into the intervals (merge if necessary).\n",
    "\n",
    "You may assume that the intervals were initially sorted according to their start times.\n",
    "\n",
    "Input: intervals = [[1,3],[6,9]], newInterval = [2,5]\n",
    "\n",
    "Output: [[1,5],[6,9]]\n"
   ]
  },
  {
   "cell_type": "code",
   "execution_count": 10,
   "metadata": {},
   "outputs": [],
   "source": [
    "# Definition for an interval.\n",
    "# class Interval(object):\n",
    "#     def __init__(self, s=0, e=0):\n",
    "#         self.start = s\n",
    "#         self.end = e\n",
    "\n",
    "class Solution:\n",
    "    def insert(self, intervals, newInterval):\n",
    "\t\tstart = newInterval.start\n",
    "\t\tend = newInterval.end\n",
    "\t\tright = left = 0\n",
    "\t\twhile right < len(intervals):\n",
    "\t\t\tif start <= intervals[right].end:\n",
    "\t\t\t\tif end < intervals[right].start:\n",
    "\t\t\t\t\tbreak\n",
    "\t\t\t\tstart = min(start, intervals[right].start)\n",
    "\t\t\t\tend = max(end, intervals[right].end)\n",
    "\t\t\telse:\n",
    "\t\t\t\tleft += 1\n",
    "\t\t\tright += 1\n",
    "\t\treturn intervals[:left] + [Interval(start, end)] + intervals[right:]"
   ]
  },
  {
   "cell_type": "markdown",
   "metadata": {},
   "source": [
    "#   Sort Transformed Array\n"
   ]
  },
  {
   "cell_type": "markdown",
   "metadata": {},
   "source": [
    "Given a sorted array of integers nums and integer values a, b and c. Apply a quadratic function of the form f(x) = ax2 + bx + c to each element x in the array.\n",
    "\n",
    "The returned array must be in sorted order.\n",
    "\n",
    "Expected time complexity: O(n)\n",
    "\n",
    "Example 1:\n",
    "\n",
    "Input: nums = [-4,-2,2,4], a = 1, b = 3, c = 5\n",
    "Output: [3,9,15,33]\n",
    "Example 2:\n",
    "\n",
    "Input: nums = [-4,-2,2,4], a = -1, b = 3, c = 5\n",
    "Output: [-23,-5,1,7]"
   ]
  },
  {
   "cell_type": "code",
   "execution_count": 12,
   "metadata": {},
   "outputs": [],
   "source": [
    "class Solution(object):\n",
    "    def sortTransformedArray(self, nums, a, b, c):\n",
    "        \"\"\"\n",
    "        :type nums: List[int]\n",
    "        :type a: int\n",
    "        :type b: int\n",
    "        :type c: int\n",
    "        :rtype: List[int]\n",
    "        \"\"\"\n",
    "        \n",
    "        res = [None] * len(nums)\n",
    "        res = [None] * len(nums)\n",
    "        if a == 0 and b >=0:\n",
    "            return [b * x + c for x in nums]\n",
    "        if a == 0 and b < 0:\n",
    "            return ([b * x + c for x in nums])[::-1]\n",
    "        pivot = (float(b) / 2 / float(a)) * (-1)\n",
    "        left, right, tail = 0, len(nums) - 1, len(nums) - 1\n",
    "        while left <= right:\n",
    "            if abs(nums[left] - pivot) > abs(nums[right] - pivot):\n",
    "                res[tail] = a * nums[left] ** 2 + b * nums[left] + c \n",
    "                left += 1\n",
    "            else:\n",
    "                res[tail] = a * nums[right] ** 2 + b * nums[right] + c \n",
    "                right -= 1\n",
    "            tail -= 1\n",
    "        if a > 0: return res\n",
    "        return res[::-1]"
   ]
  },
  {
   "cell_type": "markdown",
   "metadata": {},
   "source": [
    "#  Merge Intervals\n"
   ]
  },
  {
   "cell_type": "markdown",
   "metadata": {},
   "source": [
    "Given a collection of intervals, merge all overlapping intervals.\n",
    "\n",
    "Example 1:\n",
    "\n",
    "Input: [[1,3],[2,6],[8,10],[15,18]]\n",
    "\n",
    "Output: [[1,6],[8,10],[15,18]]\n",
    "\n",
    "Explanation: Since intervals [1,3] and [2,6] overlaps, merge them into [1,6].\n",
    "\n",
    "Example 2:\n",
    "\n",
    "Input: [[1,4],[4,5]]\n",
    "\n",
    "Output: [[1,5]]\n",
    "\n",
    "Explanation: Intervals [1,4] and [4,5] are considered overlapping."
   ]
  },
  {
   "cell_type": "code",
   "execution_count": 14,
   "metadata": {},
   "outputs": [],
   "source": [
    "# Definition for an interval.\n",
    "# class Interval:\n",
    "#     def __init__(self, s=0, e=0):\n",
    "#         self.start = s\n",
    "#         self.end = e\n",
    "\n",
    "class Solution(object):\n",
    "    def merge(self, intervals):\n",
    "        \"\"\"\n",
    "        :type intervals: List[Interval]\n",
    "        :rtype: List[Interval]\n",
    "        \"\"\"    \n",
    "        if len(intervals)<1:\n",
    "            return intervals\n",
    "        else:\n",
    "            intervals=sorted(intervals, key=lambda interval:interval.start)\n",
    "            interval=intervals[0]\n",
    "            result=[]\n",
    "            for i in range(1,len(intervals)):\n",
    "                interval2=intervals[i]\n",
    "                if interval2.start>interval.end:\n",
    "                    result.append(interval)\n",
    "                    interval=interval2\n",
    "                else:\n",
    "                    interval.end=max(interval2.end,interval.end)\n",
    "            result.append(interval)\n",
    "            return result                    \n",
    "                "
   ]
  },
  {
   "cell_type": "markdown",
   "metadata": {},
   "source": [
    "#  Longest Palindromic Substring\n"
   ]
  },
  {
   "cell_type": "markdown",
   "metadata": {},
   "source": [
    "Given a string s, find the longest palindromic substring in s. You may assume that the maximum length of s is 1000.\n",
    "\n",
    "Example 1:\n",
    "\n",
    "Input: \"babad\"\n",
    "Output: \"bab\"\n",
    "Note: \"aba\" is also a valid answer.\n",
    "Example 2:\n",
    "\n",
    "Input: \"cbbd\"\n",
    "Output: \"bb\""
   ]
  },
  {
   "cell_type": "code",
   "execution_count": 15,
   "metadata": {},
   "outputs": [],
   "source": [
    "class Solution(object):\n",
    "    def longestPalindrome(self, string):\n",
    "        \"\"\"\n",
    "        :type string: str\n",
    "        :rtype: str\n",
    "        \"\"\"\n",
    "        fw_idx = 0\n",
    "        bk_idx = 0\n",
    "        same_delta = 1\n",
    "        diff_delta = 1\n",
    "        max_range = (0, 0)\n",
    "        while fw_idx < len(string):\n",
    "            if diff_delta > len(string)/2:\n",
    "                break\n",
    "            if fw_idx + same_delta < len(string) and string[fw_idx + same_delta] == string[bk_idx]:\n",
    "                if same_delta + 1 > max_range[1] - max_range[0]:\n",
    "                    max_range = (bk_idx, fw_idx + same_delta)\n",
    "\n",
    "                same_delta += 1\n",
    "\n",
    "            else:\n",
    "                fw_idx = fw_idx + same_delta - 1\n",
    "                if bk_idx - diff_delta >=0 and fw_idx + diff_delta < len(string) and string[fw_idx + diff_delta] == string[bk_idx - diff_delta]:\n",
    "                    if fw_idx - bk_idx + (diff_delta * 2) > max_range[1] - max_range[0]:\n",
    "                        max_range = (bk_idx - diff_delta, fw_idx + diff_delta)\n",
    "\n",
    "                    diff_delta += 1\n",
    "                else:\n",
    "                    fw_idx += 1\n",
    "                    bk_idx = fw_idx\n",
    "                    diff_delta = 1\n",
    "                same_delta = 1\n",
    "\n",
    "        return string[max_range[0]:max_range[1]+1]"
   ]
  },
  {
   "cell_type": "markdown",
   "metadata": {},
   "source": [
    "# Diagonal Traverse\n"
   ]
  },
  {
   "cell_type": "code",
   "execution_count": null,
   "metadata": {},
   "outputs": [],
   "source": []
  },
  {
   "cell_type": "code",
   "execution_count": null,
   "metadata": {},
   "outputs": [],
   "source": [
    "class Solution(object):\n",
    "    def findDiagonalOrder(self, matrix):\n",
    "        \"\"\"\n",
    "        :type matrix: List[List[int]]\n",
    "        :rtype: List[int]\n",
    "        \"\"\"\n",
    "        result = []\n",
    "\n",
    "        # '0' is dl, '1' is ur\n",
    "        direction = 1\n",
    "        lenR = len(matrix)\n",
    "        lenC = 0\n",
    "        if lenR > 0 and type(matrix[0]) == list:\n",
    "            lenC = len(matrix[0])\n",
    "        items = lenR * lenC\n",
    "        (r,c) = (0,0)\n",
    "        for _ in xrange(items):\n",
    "            # Append current element\n",
    "            result.append(matrix[r][c])\n",
    "\n",
    "            # Compute next element\n",
    "            if direction == 1:\n",
    "                if r > 0 and (c+1) < lenC:\n",
    "                    (r,c) = (r-1,c+1)\n",
    "                elif c+1 < lenC:\n",
    "                    (r,c) = (r,c+1)\n",
    "                    direction = 0\n",
    "                else:\n",
    "                    (r,c) = (r+1,c)\n",
    "                    direction = 0\n",
    "            else:\n",
    "                if c > 0 and (r+1) < lenR:\n",
    "                    (r,c) = (r+1,c-1)\n",
    "                elif r+1 < lenR:\n",
    "                    (r,c) = (r+1,c)\n",
    "                    direction = 1\n",
    "                else: \n",
    "                    (r,c) = (r,c+1)\n",
    "                    direction = 1\n",
    "                        \n",
    "        return result"
   ]
  },
  {
   "cell_type": "markdown",
   "metadata": {},
   "source": [
    "# Next Greater Element I\n"
   ]
  },
  {
   "cell_type": "markdown",
   "metadata": {},
   "source": [
    "Input: nums1 = [4,1,2], nums2 = [1,3,4,2].\n",
    "\n",
    "Output: [-1,3,-1]\n",
    "\n",
    "Explanation:\n",
    "    \n",
    "    For number 4 in the first array, you cannot find the next greater number for it in the second array, so output -1.\n",
    "    \n",
    "    For number 1 in the first array, the next greater number for it in the second array is 3.\n",
    "    \n",
    "    For number 2 in the first array, there is no next greater number for it in the second array, so output -1."
   ]
  },
  {
   "cell_type": "code",
   "execution_count": null,
   "metadata": {},
   "outputs": [],
   "source": [
    "class Solution(object):\n",
    "    def nextGreaterElement(self, findNums, nums):\n",
    "        greater,stack = {},[]\n",
    "        for n in nums:\n",
    "            while stack and n > stack[-1]:\n",
    "                greater[stack.pop()] = n\n",
    "            stack.append(n)\n",
    "        return [greater[n] if n in greater else -1 for n in findNums]"
   ]
  },
  {
   "cell_type": "markdown",
   "metadata": {},
   "source": [
    "# Pacific Atlantic Water Flow\n"
   ]
  },
  {
   "cell_type": "markdown",
   "metadata": {},
   "source": [
    "iven an m x n matrix of non-negative integers representing the height of each unit cell in a continent, the \"Pacific ocean\" touches the left and top edges of the matrix and the \"Atlantic ocean\" touches the right and bottom edges.\n",
    "\n",
    "Water can only flow in four directions (up, down, left, or right) from a cell to another one with height equal or lower.\n",
    "\n",
    "Find the list of grid coordinates where water can flow to both the Pacific and Atlantic ocean.\n",
    "\n",
    "Note:\n",
    "\n",
    "The order of returned grid coordinates does not matter.\n",
    "Both m and n are less than 150."
   ]
  },
  {
   "cell_type": "code",
   "execution_count": 16,
   "metadata": {},
   "outputs": [],
   "source": [
    "class Solution(object):\n",
    "    def pacificAtlantic(self, matrix):\n",
    "        if not matrix: return []\n",
    "        m, n = len(matrix), len(matrix[0])\n",
    "        def bfs(reachable_ocean):\n",
    "            q = collections.deque(reachable_ocean)\n",
    "            while q:\n",
    "                (i, j) = q.popleft()\n",
    "                for (di, dj) in [(0,1), (0, -1), (1, 0), (-1, 0)]:\n",
    "                    if 0 <= di+i < m and 0 <= dj+j < n and (di+i, dj+j) not in reachable_ocean \\\n",
    "                        and matrix[di+i][dj+j] >= matrix[i][j]:\n",
    "                        q.append( (di+i,dj+j) )\n",
    "                        reachable_ocean.add( (di+i, dj+j) )\n",
    "            return reachable_ocean         \n",
    "        pacific  =set ( [ (i, 0) for i in range(m)]   + [(0, j) for j  in range(1, n)]) \n",
    "        atlantic =set ( [ (i, n-1) for i in range(m)] + [(m-1, j) for j in range(n-1)]) \n",
    "        return list( bfs(pacific) & bfs(atlantic) )    "
   ]
  },
  {
   "cell_type": "markdown",
   "metadata": {},
   "source": [
    "# Evaluate Reverse Polish Notation\n"
   ]
  },
  {
   "cell_type": "markdown",
   "metadata": {},
   "source": [
    "Evaluate the value of an arithmetic expression in Reverse Polish Notation.\n",
    "\n",
    "Valid operators are +, -, *, /. Each operand may be an integer or another expression.\n",
    "\n",
    "Note:\n",
    "\n",
    "Division between two integers should truncate toward zero.\n",
    "The given RPN expression is always valid. That means the expression would always evaluate to a result and there won't be any divide by zero operation.\n",
    "Example 1:\n",
    "\n",
    "Input: [\"2\", \"1\", \"+\", \"3\", \"*\"]\n",
    "\n",
    "Output: 9\n",
    "\n",
    "Explanation: ((2 + 1) * 3) = 9\n",
    "\n",
    "Example 2:\n",
    "\n",
    "Input: [\"4\", \"13\", \"5\", \"/\", \"+\"]\n",
    "\n",
    "Output: 6\n",
    "\n",
    "Explanation: (4 + (13 / 5)) = 6\n",
    "\n",
    "Example 3:\n",
    "\n",
    "Input: [\"10\", \"6\", \"9\", \"3\", \"+\", \"-11\", \"*\", \"/\", \"*\", \"17\", \"+\", \"5\", \"+\"]\n",
    "\n",
    "Output: 22\n",
    "\n",
    "Explanation: \n",
    "  ((10 * (6 / ((9 + 3) * -11))) + 17) + 5\n",
    "= ((10 * (6 / (12 * -11))) + 17) + 5\n",
    "= ((10 * (6 / -132)) + 17) + 5\n",
    "= ((10 * 0) + 17) + 5\n",
    "= (0 + 17) + 5\n",
    "= 17 + 5\n",
    "= 22"
   ]
  },
  {
   "cell_type": "code",
   "execution_count": 18,
   "metadata": {},
   "outputs": [],
   "source": [
    "class Solution(object):\n",
    "    def evalRPN(self, tokens):\n",
    "        \"\"\"\n",
    "        :type tokens: List[str]\n",
    "        :rtype: int\n",
    "        \"\"\"\n",
    "        #tokens = [\"10\",\"6\",\"9\",\"3\",\"+\",\"-11\",\"*\",\"/\",\"*\",\"17\",\"+\",\"5\",\"+\"]\n",
    "        ops = {\n",
    "                '+': lambda x, y: x + y,\n",
    "                '-': lambda x, y: x - y,\n",
    "                '*': lambda x, y: x * y,\n",
    "                '/': lambda x, y: x // y if x * y > 0 else -(-x//y)\n",
    "            }\n",
    "        q = collections.deque()\n",
    "        for x in tokens:\n",
    "            if x in ops:\n",
    "                b = q.pop()\n",
    "                a = q.pop()\n",
    "                q.append(ops[x](a, b))\n",
    "                #print(a, b, x, ops[x](a, b))\n",
    "            else:\n",
    "                q.append(int(x))\n",
    "        return q[-1]"
   ]
  }
 ],
 "metadata": {
  "kernelspec": {
   "display_name": "Python 3",
   "language": "python",
   "name": "python3"
  },
  "language_info": {
   "codemirror_mode": {
    "name": "ipython",
    "version": 3
   },
   "file_extension": ".py",
   "mimetype": "text/x-python",
   "name": "python",
   "nbconvert_exporter": "python",
   "pygments_lexer": "ipython3",
   "version": "3.7.1"
  }
 },
 "nbformat": 4,
 "nbformat_minor": 2
}
