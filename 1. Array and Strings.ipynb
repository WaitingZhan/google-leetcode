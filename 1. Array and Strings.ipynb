{
 "cells": [
  {
   "cell_type": "markdown",
   "metadata": {},
   "source": [
    "# Array and Strings"
   ]
  },
  {
   "cell_type": "markdown",
   "metadata": {},
   "source": [
    "## Spiral Matrix\n",
    "\n",
    "Given a matrix of m x n elements (m rows, n columns), return all elements of the matrix in spiral order.\n",
    "\n",
    "Input:\n",
    "[\n",
    " [ 1, 2, 3 ],\n",
    " [ 4, 5, 6 ],\n",
    " [ 7, 8, 9 ]\n",
    "]\n",
    "Output: [1,2,3,6,9,8,7,4,5]"
   ]
  },
  {
   "cell_type": "code",
   "execution_count": 1,
   "metadata": {},
   "outputs": [],
   "source": [
    "class Solution:\n",
    "    def spiralOrder(self, matrix):\n",
    "        \"\"\"\n",
    "        :type matrix: List[List[int]]\n",
    "        :rtype: List[int]\n",
    "        \"\"\"\n",
    "        ret = []\n",
    "        while matrix:\n",
    "            ret += matrix.pop(0)\n",
    "            if matrix and matrix [0]:\n",
    "                for row in matrix:\n",
    "                    ret.append(row.pop())\n",
    "            if matrix:\n",
    "                ret += matrix.pop()[::-1]\n",
    "            if matrix and matrix[0]:\n",
    "                for row in matrix[::-1]:\n",
    "                    ret.append(row.pop(0))\n",
    "        return ret\n",
    "\n"
   ]
  },
  {
   "cell_type": "markdown",
   "metadata": {},
   "source": [
    "# Plus One\n",
    "Given a non-empty array of digits representing a non-negative integer, plus one to the integer.\n",
    "\n",
    "The digits are stored such that the most significant digit is at the head of the list, and each element in the array contain a single digit.\n",
    "\n",
    "You may assume the integer does not contain any leading zero, except the number 0 itself."
   ]
  },
  {
   "cell_type": "code",
   "execution_count": 2,
   "metadata": {},
   "outputs": [],
   "source": [
    "class Solution:\n",
    "    def plusOne(self, digits):\n",
    "        if digits[-1] != 9:\n",
    "            digits[-1] += 1\n",
    "            return digits\n",
    "        i = -1\n",
    "        while i >= -len(digits) and digits[i] == 9:\n",
    "            digits[i] = 0\n",
    "            i -= 1\n",
    "        if i == -len(digits)-1:\n",
    "             digits.insert(0, 1)\n",
    "        else:\n",
    "            digits[i] +=1\n",
    "        return digits"
   ]
  },
  {
   "cell_type": "markdown",
   "metadata": {},
   "source": [
    "#  Trapping Rain Water\n",
    "Given n non-negative integers representing an elevation map where the width of each bar is 1, compute how much water it is able to trap after raining.\n",
    "\n",
    "\n",
    "Input: [0,1,0,2,1,0,1,3,2,1,2,1]\n",
    "Output: 6"
   ]
  },
  {
   "cell_type": "code",
   "execution_count": 3,
   "metadata": {},
   "outputs": [],
   "source": [
    "class Solution:\n",
    "    def trap(self, height):\n",
    "        left = 0\n",
    "        right = len(height) - 1\n",
    "        left_max = right_max = area = 0\n",
    "        \n",
    "        while left < right:\n",
    "            if height[left] < height[right]:\n",
    "                if height[left] < left_max:\n",
    "                    area += left_max - height[left]\n",
    "                else:\n",
    "                    left_max = height[left]\n",
    "                left += 1\n",
    "            else:\n",
    "                if height[right] < right_max:\n",
    "                    area += right_max - height[right]\n",
    "                else:\n",
    "                    right_max = height[right]\n",
    "                right -= 1\n",
    "                \n",
    "        return area"
   ]
  },
  {
   "cell_type": "markdown",
   "metadata": {},
   "source": [
    "# Longest Substring with At Most K Distinct Characters\n",
    "\n",
    "Given a string, find the length of the longest substring T that contains at most k distinct characters.\n",
    "\n",
    "\n",
    "Input: s = \"eceba\", k = 2\n",
    "Output: 3\n",
    "Explanation: T is \"ece\" which its length is 3.\n",
    "\n",
    "Input: s = \"aa\", k = 1\n",
    "Output: 2\n",
    "Explanation: T is \"aa\" which its length is 2."
   ]
  },
  {
   "cell_type": "code",
   "execution_count": 4,
   "metadata": {},
   "outputs": [],
   "source": [
    "class Solution:\n",
    "    def lengthOfLongestSubstringKDistinct(self, s, k):\n",
    "        \"\"\"\n",
    "        :type s: str\n",
    "        :type k: int\n",
    "        :rtype: int\n",
    "        \"\"\"\n",
    "        ans = 0\n",
    "        counter = [0]*127\n",
    "        start_i = 0\n",
    "        cur_k = 0\n",
    "        for i, c in enumerate(s):\n",
    "            if counter[ord(c)] == 0: cur_k += 1\n",
    "            counter[ord(c)] += 1\n",
    "            if cur_k > k:\n",
    "                # if we can make this while statement O(1), it must be better. May we use heap. I'll just mention it in interview.\n",
    "                while cur_k > k:\n",
    "                    counter[ord(s[start_i])] -= 1\n",
    "                    if counter[ord(s[start_i])] == 0:\n",
    "                        cur_k -= 1\n",
    "                    start_i += 1\n",
    "            ans = max(ans, i-start_i+1)\n",
    "        return ans"
   ]
  },
  {
   "cell_type": "markdown",
   "metadata": {},
   "source": [
    "#   Add Bold Tag in String\n",
    "Given a string s and a list of strings dict, you need to add a closed pair of bold tag <b> and </b> to wrap the substrings in s that exist in dict. If two such substrings overlap, you need to wrap them together by only one pair of closed bold tag. Also, if two substrings wrapped by bold tags are consecutive, you need to combine them.\n",
    "\n",
    "\n",
    "Input: \n",
    "s = \"abcxyz123\"\n",
    "dict = [\"abc\",\"123\"]\n",
    "\n",
    "\n",
    "Output:\n",
    "\"<b>abc</b>xyz<b>123</b>\""
   ]
  },
  {
   "cell_type": "code",
   "execution_count": 5,
   "metadata": {},
   "outputs": [],
   "source": [
    "class Solution(object):\n",
    "    def addBoldTag(self, s, dict):\n",
    "        \"\"\"\n",
    "        :type s: str\n",
    "        :type dict: List[str]\n",
    "        :rtype: str\n",
    "        \"\"\"\n",
    "        res = \"\"\n",
    "        i = 0\n",
    "        r = -1  # bold stop index\n",
    "        while i < len(s):\n",
    "            found = False\n",
    "            for d in dict:\n",
    "                if s[i:].startswith(d):\n",
    "                    if found is False and r < i:\n",
    "                        res += \"<b>\"\n",
    "                    found = True\n",
    "                    r = max(r, i+len(d))\n",
    "            if r == i:\n",
    "                res += \"</b>\"\n",
    "            res += s[i]\n",
    "            i += 1\n",
    "\n",
    "        if r == len(s):\n",
    "            res += \"</b>\"\n",
    "\n",
    "        return res"
   ]
  },
  {
   "cell_type": "markdown",
   "metadata": {},
   "source": [
    "# Game of Life\n",
    "According to the Wikipedia's article: \"The Game of Life, also known simply as Life, is a cellular automaton devised by the British mathematician John Horton Conway in 1970.\"\n",
    "\n",
    "Given a board with m by n cells, each cell has an initial state live (1) or dead (0). Each cell interacts with its eight neighbors (horizontal, vertical, diagonal) using the following four rules (taken from the above Wikipedia article):\n",
    "\n",
    "Any live cell with fewer than two live neighbors dies, as if caused by under-population.\n",
    "Any live cell with two or three live neighbors lives on to the next generation.\n",
    "Any live cell with more than three live neighbors dies, as if by over-population..\n",
    "Any dead cell with exactly three live neighbors becomes a live cell, as if by reproduction.\n",
    "Write a function to compute the next state (after one update) of the board given its current state. The next state is created by applying the above rules simultaneously to every cell in the current state, where births and deaths occur simultaneously.\n",
    "\n",
    "\n",
    "Input: \n",
    "[\n",
    "  [0,1,0],\n",
    "  [0,0,1],\n",
    "  [1,1,1],\n",
    "  [0,0,0]\n",
    "]\n",
    "Output: \n",
    "[\n",
    "  [0,0,0],\n",
    "  [1,0,1],\n",
    "  [0,1,1],\n",
    "  [0,1,0]\n",
    "]"
   ]
  },
  {
   "cell_type": "code",
   "execution_count": 6,
   "metadata": {},
   "outputs": [],
   "source": [
    "class Solution(object):\n",
    "# Returns the number of the 8 neighbors that are live. I am cell [row][col]\n",
    "    def neighboors(self, matrix, row, col):\n",
    "        # All the possible 8 neighboors positions\n",
    "        positions = [(row-1,col), (row,col-1), (row-1,col-1), (row+1,col), (row,col+1), (row+1,col+1), (row+1,col-1), (row-1,col+1)]\n",
    "        res = 0\n",
    "        \n",
    "        for r,c in positions:  \n",
    "            if r>=0 and r<len(matrix) and c>=0 and c<len(matrix[0]):\n",
    "                # Count only live ones. A live one is eithe 1 or 2 \n",
    "                if matrix[r][c] == 1 or matrix[r][c] == 2 :\n",
    "                    res += 1\n",
    "        return res\n",
    "    \n",
    "    \n",
    "    def decipher(self, board, size_rows, size_cols):\n",
    "        for r in range(size_rows):\n",
    "            for c in range(size_cols):\n",
    "                if board[r][c] == -2:\n",
    "                    board[r][c] = 1\n",
    "                if board[r][c] == 2:\n",
    "                    board[r][c] = 0\n",
    "\n",
    "        \n",
    "    def gameOfLife(self, board):\n",
    "        \"\"\"\n",
    "        :type board: List[List[int]]\n",
    "        :rtype: void Do not return anything, modify board in-place instead.\n",
    "        \"\"\"\n",
    "        \n",
    "        size_rows = len(board)\n",
    "        size_cols = len(board[0])\n",
    "            \n",
    "        # THe ones will affect the computation are the 1's -> 0 \n",
    "        # that we will represent as [2] and 0->1's represented with a [-2]\n",
    "        for r in range(size_rows):\n",
    "            for c in range(size_cols):\n",
    "                # Temp holds how many neighboors they have 1s.\n",
    "                # Notice how the function neighboors works, \n",
    "                # It is 1 if the cell value is 1 or 2\n",
    "                temp = self.neighboors(board, r, c)\n",
    "                # Rule 1\n",
    "                if board[r][c] == 1 and temp <2:\n",
    "                    board[r][c] = 2\n",
    "                # Rule 2\n",
    "                elif board[r][c] == 1 and  temp >=2 and temp<4:\n",
    "                    board[r][c] = 1\n",
    "                # Rule 3\n",
    "                elif board[r][c] == 1 and temp>=4:\n",
    "                    board[r][c] = 2\n",
    "                # Rule 4\n",
    "                elif board[r][c] == 0 and temp==3:\n",
    "                    board[r][c] = -2\n",
    "        \n",
    "        # Translate the 2 and -2 back to their actual values\n",
    "        self.decipher(board, size_rows, size_cols)"
   ]
  },
  {
   "cell_type": "markdown",
   "metadata": {},
   "source": [
    "# Read N Characters Given Read4\n",
    "Given a file and assume that you can only read the file using a given method read4, implement a method to read n characters.\n",
    "\n",
    " \n",
    "\n",
    "Method read4:\n",
    "\n",
    "The API read4 reads 4 consecutive characters from the file, then writes those characters into the buffer array buf.\n",
    "\n",
    "The return value is the number of actual characters read.\n",
    "\n",
    "Note that read4() has its own file pointer, much like FILE *fp in C.\n",
    "\n",
    "Definition of read4:\n",
    "\n",
    "    Parameter:  char[] buf\n",
    "    Returns:    int\n",
    "\n",
    "Note: buf[] is destination not source, the results from read4 will be copied to buf[]\n",
    "Below is a high level example of how read4 works:\n",
    "\n",
    "File file(\"abcdefghijk\"); // File is \"abcdefghijk\", initially file pointer (fp) points to 'a'\n",
    "char[] buf = new char[4]; // Create buffer with enough space to store characters\n",
    "read4(buf); // read4 returns 4. Now buf = \"abcd\", fp points to 'e'\n",
    "read4(buf); // read4 returns 4. Now buf = \"efgh\", fp points to 'i'\n",
    "read4(buf); // read4 returns 3. Now buf = \"ijk\", fp points to end of file\n",
    " \n",
    "\n",
    "Method read:\n",
    "\n",
    "By using the read4 method, implement the method read that reads n characters from the file and store it in the buffer array buf. Consider that you cannot manipulate the file directly.\n",
    "\n",
    "The return value is the number of actual characters read.\n",
    "\n",
    "Definition of read:\n",
    "\n",
    "    Parameters:\tchar[] buf, int n\n",
    "    Returns:\tint\n",
    "\n",
    "Note: buf[] is destination not source, you will need to write the results to buf[]\n",
    " \n",
    "\n",
    "Example 1:\n",
    "\n",
    "Input: file = \"abc\", n = 4\n",
    "Output: 3\n",
    "Explanation: After calling your read method, buf should contain \"abc\". We read a total of 3 characters from the file, so return 3. Note that \"abc\" is the file's content, not buf. buf is the destination buffer that you will have to write the results to.\n",
    "Example 2:\n",
    "\n",
    "Input: file = \"abcde\", n = 5\n",
    "Output: 5\n",
    "Explanation: After calling your read method, buf should contain \"abcde\". We read a total of 5 characters from the file, so return 5."
   ]
  },
  {
   "cell_type": "code",
   "execution_count": null,
   "metadata": {},
   "outputs": [],
   "source": []
  },
  {
   "cell_type": "markdown",
   "metadata": {},
   "source": [
    "# Read N Characters Given Read4 II - Call multiple times"
   ]
  },
  {
   "cell_type": "code",
   "execution_count": null,
   "metadata": {},
   "outputs": [],
   "source": []
  },
  {
   "cell_type": "markdown",
   "metadata": {},
   "source": [
    "# One Edit Distance\n"
   ]
  },
  {
   "cell_type": "code",
   "execution_count": null,
   "metadata": {},
   "outputs": [],
   "source": []
  },
  {
   "cell_type": "markdown",
   "metadata": {},
   "source": [
    "# Valid Palindrome"
   ]
  },
  {
   "cell_type": "code",
   "execution_count": null,
   "metadata": {},
   "outputs": [],
   "source": []
  },
  {
   "cell_type": "markdown",
   "metadata": {},
   "source": [
    "# Valid Number"
   ]
  },
  {
   "cell_type": "code",
   "execution_count": null,
   "metadata": {},
   "outputs": [],
   "source": []
  },
  {
   "cell_type": "code",
   "execution_count": null,
   "metadata": {},
   "outputs": [],
   "source": []
  },
  {
   "cell_type": "markdown",
   "metadata": {},
   "source": [
    "# Valid Parentheses"
   ]
  },
  {
   "cell_type": "code",
   "execution_count": null,
   "metadata": {},
   "outputs": [],
   "source": []
  },
  {
   "cell_type": "markdown",
   "metadata": {},
   "source": [
    "# Image Smoother"
   ]
  },
  {
   "cell_type": "code",
   "execution_count": null,
   "metadata": {},
   "outputs": [],
   "source": []
  },
  {
   "cell_type": "code",
   "execution_count": null,
   "metadata": {},
   "outputs": [],
   "source": []
  },
  {
   "cell_type": "markdown",
   "metadata": {},
   "source": [
    "# Intersection of Two Arrays"
   ]
  },
  {
   "cell_type": "code",
   "execution_count": null,
   "metadata": {},
   "outputs": [],
   "source": []
  },
  {
   "cell_type": "code",
   "execution_count": null,
   "metadata": {},
   "outputs": [],
   "source": []
  },
  {
   "cell_type": "markdown",
   "metadata": {},
   "source": [
    "# Max Consecutive Ones"
   ]
  },
  {
   "cell_type": "code",
   "execution_count": null,
   "metadata": {},
   "outputs": [],
   "source": []
  },
  {
   "cell_type": "code",
   "execution_count": null,
   "metadata": {},
   "outputs": [],
   "source": []
  },
  {
   "cell_type": "markdown",
   "metadata": {},
   "source": [
    "# Max Consecutive Ones II"
   ]
  },
  {
   "cell_type": "code",
   "execution_count": null,
   "metadata": {},
   "outputs": [],
   "source": []
  },
  {
   "cell_type": "code",
   "execution_count": null,
   "metadata": {},
   "outputs": [],
   "source": []
  },
  {
   "cell_type": "markdown",
   "metadata": {},
   "source": [
    "# Shortest Palindrome"
   ]
  },
  {
   "cell_type": "code",
   "execution_count": null,
   "metadata": {},
   "outputs": [],
   "source": []
  },
  {
   "cell_type": "code",
   "execution_count": null,
   "metadata": {},
   "outputs": [],
   "source": []
  },
  {
   "cell_type": "markdown",
   "metadata": {},
   "source": [
    "# First Missing Positive"
   ]
  },
  {
   "cell_type": "code",
   "execution_count": null,
   "metadata": {},
   "outputs": [],
   "source": []
  },
  {
   "cell_type": "code",
   "execution_count": null,
   "metadata": {},
   "outputs": [],
   "source": []
  },
  {
   "cell_type": "markdown",
   "metadata": {},
   "source": [
    "#  First Unique Character in a String\n"
   ]
  },
  {
   "cell_type": "code",
   "execution_count": null,
   "metadata": {},
   "outputs": [],
   "source": []
  },
  {
   "cell_type": "code",
   "execution_count": null,
   "metadata": {},
   "outputs": [],
   "source": []
  },
  {
   "cell_type": "markdown",
   "metadata": {},
   "source": [
    "#  Move Zeroes"
   ]
  },
  {
   "cell_type": "code",
   "execution_count": null,
   "metadata": {},
   "outputs": [],
   "source": []
  },
  {
   "cell_type": "code",
   "execution_count": null,
   "metadata": {},
   "outputs": [],
   "source": []
  },
  {
   "cell_type": "markdown",
   "metadata": {},
   "source": [
    "# Remove Duplicates from Sorted Array"
   ]
  },
  {
   "cell_type": "code",
   "execution_count": null,
   "metadata": {},
   "outputs": [],
   "source": []
  }
 ],
 "metadata": {
  "kernelspec": {
   "display_name": "Python 3",
   "language": "python",
   "name": "python3"
  },
  "language_info": {
   "codemirror_mode": {
    "name": "ipython",
    "version": 3
   },
   "file_extension": ".py",
   "mimetype": "text/x-python",
   "name": "python",
   "nbconvert_exporter": "python",
   "pygments_lexer": "ipython3",
   "version": "3.7.1"
  }
 },
 "nbformat": 4,
 "nbformat_minor": 2
}
