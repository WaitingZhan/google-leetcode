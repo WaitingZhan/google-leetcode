{
 "cells": [
  {
   "cell_type": "markdown",
   "metadata": {},
   "source": [
    " # Word Squares"
   ]
  },
  {
   "cell_type": "markdown",
   "metadata": {},
   "source": [
    "Given a set of words (without duplicates), find all word squares you can build from them.\n",
    "\n",
    "A sequence of words forms a valid word square if the kth row and column read the exact same string, where 0 ≤ k < max(numRows, numColumns).\n",
    "\n",
    "For example, the word sequence [\"ball\",\"area\",\"lead\",\"lady\"] forms a word square because each word reads the same both horizontally and vertically.\n",
    "\n",
    "b a l l\n",
    "a r e a\n",
    "l e a d\n",
    "l a d y\n",
    "Note:\n",
    "\n",
    "There are at least 1 and at most 1000 words.\n",
    "All words will have the exact same length.\n",
    "Word length is at least 1 and at most 5.\n",
    "Each word contains only lowercase English alphabet a-z."
   ]
  },
  {
   "cell_type": "code",
   "execution_count": 1,
   "metadata": {},
   "outputs": [],
   "source": [
    "class Solution(object):\n",
    "    def wordSquares(self, words):\n",
    "        \"\"\"\n",
    "        :type words: List[str]\n",
    "        :rtype: List[List[str]]\n",
    "        \"\"\"\n",
    "        if len(words) == 0:\n",
    "            return []\n",
    "        dic = {}\n",
    "        n = len(words[0])\n",
    "        for word in words:\n",
    "            for i in range(n):\n",
    "                pref = word[:i + 1]\n",
    "                if pref in dic:\n",
    "                    dic[pref].append(word)\n",
    "                else:\n",
    "                    dic[pref] = [word]\n",
    "        \n",
    "        \n",
    "        def nextsq(square = []):\n",
    "            k = len(square)\n",
    "            if k == n:\n",
    "                res.append(square)\n",
    "            else:\n",
    "                pref = \"\"\n",
    "                for wrd in square:\n",
    "                    pref = pref + wrd[k]\n",
    "                if pref in dic:\n",
    "                    for word in dic[pref]:\n",
    "                        nextsq(square + [word])\n",
    "        \n",
    "        res = []\n",
    "        for tword in words:\n",
    "            nextsq([tword])\n",
    "        return res"
   ]
  },
  {
   "cell_type": "markdown",
   "metadata": {},
   "source": [
    "# Strobogrammatic Number II\n",
    "\n",
    "A strobogrammatic number is a number that looks the same when rotated 180 degrees (looked at upside down).\n",
    "\n",
    "Find all strobogrammatic numbers that are of length = n.\n",
    "\n",
    "Example:\n",
    "\n",
    "Input:  n = 2\n",
    "Output: [\"11\",\"69\",\"88\",\"96\"]\n"
   ]
  },
  {
   "cell_type": "code",
   "execution_count": 2,
   "metadata": {},
   "outputs": [],
   "source": [
    "class Solution(object):\n",
    "    def findStrobogrammatic(self, n):\n",
    "        evenMidCandidate = [\"11\",\"69\",\"88\",\"96\", \"00\"]\n",
    "        oddMidCandidate = [\"0\", \"1\", \"8\"]\n",
    "        if n == 1:\n",
    "            return oddMidCandidate\n",
    "        if n == 2:\n",
    "            return evenMidCandidate[:-1]\n",
    "        if n % 2:\n",
    "            pre, midCandidate = self.findStrobogrammatic(n-1), oddMidCandidate\n",
    "        else: \n",
    "            pre, midCandidate = self.findStrobogrammatic(n-2), evenMidCandidate\n",
    "        premid = (n-1)/2\n",
    "        return [p[:premid] + c + p[premid:] for c in midCandidate for p in pre]"
   ]
  },
  {
   "cell_type": "markdown",
   "metadata": {},
   "source": [
    "# Word Search II"
   ]
  },
  {
   "cell_type": "markdown",
   "metadata": {},
   "source": [
    "Given a 2D board and a list of words from the dictionary, find all words in the board.\n",
    "\n",
    "Each word must be constructed from letters of sequentially adjacent cell, where \"adjacent\" cells are those horizontally or vertically neighboring. The same letter cell may not be used more than once in a word."
   ]
  },
  {
   "cell_type": "markdown",
   "metadata": {},
   "source": [
    "Input: \n",
    "words = [\"oath\",\"pea\",\"eat\",\"rain\"] and board =\n",
    "[\n",
    "  ['o','a','a','n'],\n",
    "  ['e','t','a','e'],\n",
    "  ['i','h','k','r'],\n",
    "  ['i','f','l','v']\n",
    "]\n",
    "\n",
    "Output: [\"eat\",\"oath\"]"
   ]
  },
  {
   "cell_type": "code",
   "execution_count": 5,
   "metadata": {},
   "outputs": [],
   "source": [
    "class Solution(object):\n",
    "    def checkList(self, board, row, col, word, trie, rList):\n",
    "        if row<0 or row>=len(board) or col<0 or col>=len(board[0]) or board[row][col] == '.' or board[row][col] not in trie: return\n",
    "        c = board[row][col]\n",
    "        _word= word + c\n",
    "        if '#' in trie[c]: \n",
    "            rList.add(_word)\n",
    "            if len(trie[c]) == 1: return # if next node is empty, return as no there is no need to search further\n",
    "        board[row][col] = '.'\n",
    "        self.checkList(board, row-1, col, _word, trie[c], rList) #up\n",
    "        self.checkList(board, row+1, col, _word, trie[c], rList) #down\n",
    "        self.checkList(board, row, col-1, _word, trie[c], rList) #left\n",
    "        self.checkList(board, row, col+1, _word, trie[c], rList) #right\n",
    "        board[row][col] = c\n",
    "    \n",
    "    def findWords(self, board, words):\n",
    "        \"\"\"\n",
    "        :type board: List[List[str]]\n",
    "        :type words: List[str]\n",
    "        :rtype: List[str]\n",
    "        \"\"\"\n",
    "        if not board or not words: return []\n",
    "        # building Trie\n",
    "        trie, rList = {}, set()\n",
    "        for word in words:\n",
    "            t = trie\n",
    "            for c in word:\n",
    "                if c not in t: t[c] = {}\n",
    "                t = t[c]\n",
    "            t['#'] = None\n",
    "        for row in range(len(board)):\n",
    "            for col in range(len(board[0])):\n",
    "                if board[row][col] not in trie: continue\n",
    "                self.checkList(board, row, col, \"\", trie, rList)\n",
    "        return list(rList)"
   ]
  },
  {
   "cell_type": "markdown",
   "metadata": {},
   "source": [
    " # Android Unlock Patterns\n",
    " \n",
    " Given an Android 3x3 key lock screen and two integers m and n, where 1 ≤ m ≤ n ≤ 9, count the total number of unlock patterns of the Android lock screen, which consist of minimum of m keys and maximum n keys.\n",
    "\n",
    " \n",
    "\n",
    "Rules for a valid pattern:\n",
    "\n",
    "Each pattern must connect at least m keys and at most n keys.\n",
    "All the keys must be distinct.\n",
    "If the line connecting two consecutive keys in the pattern passes through any other keys, the other keys must have previously selected in the pattern. No jumps through non selected key is allowed.\n",
    "The order of keys used matters.\n"
   ]
  },
  {
   "cell_type": "code",
   "execution_count": null,
   "metadata": {},
   "outputs": [],
   "source": []
  }
 ],
 "metadata": {
  "kernelspec": {
   "display_name": "Python 3",
   "language": "python",
   "name": "python3"
  },
  "language_info": {
   "codemirror_mode": {
    "name": "ipython",
    "version": 3
   },
   "file_extension": ".py",
   "mimetype": "text/x-python",
   "name": "python",
   "nbconvert_exporter": "python",
   "pygments_lexer": "ipython3",
   "version": "3.7.1"
  }
 },
 "nbformat": 4,
 "nbformat_minor": 2
}
